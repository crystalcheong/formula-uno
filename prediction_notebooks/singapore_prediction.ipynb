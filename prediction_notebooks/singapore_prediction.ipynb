{
 "cells": [
  {
   "cell_type": "code",
   "execution_count": null,
   "metadata": {},
   "outputs": [],
   "source": [
    "#"
   ]
  },
  {
   "cell_type": "code",
   "execution_count": null,
   "metadata": {},
   "outputs": [],
   "source": [
    "\"\"\"\n",
    "track_downforce_mapping = {\n",
    "    'Monaco': 'Very High DF',\n",
    "    'Singapore': 'Very High DF',\n",
    "    'Canada': 'High DF',\n",
    "    'Silverstone': 'High DF',\n",
    "    'Imola': 'High DF',\n",
    "    'Hungary': 'Medium DF',\n",
    "    'Australia': 'Medium DF',\n",
    "    'Bahrain': 'Medium DF',\n",
    "    'Austria': 'Medium DF',\n",
    "    'Netherlands': 'Medium DF',\n",
    "    'Spain': 'Low DF',\n",
    "    'Japan': 'Low DF',\n",
    "    'Saudi Arabia': 'Low DF',\n",
    "    'Baku': 'Very Low DF',\n",
    "    'Belgium': 'Very Low DF',\n",
    "    'Monza': 'Very Low DF',\n",
    "    'Miami': 'Very Low DF',\n",
    "}\n",
    "\n",
    "Numerical mapping:\n",
    "downforce_numeric_mapping = {\n",
    "    'Monaco': 5,\n",
    "    'Singapore': 5,\n",
    "    'Canada': 4,\n",
    "    'Silverstone': 4,\n",
    "    'Imola': 4,\n",
    "    'Hungary': 3,\n",
    "    'Australia': 3,\n",
    "    'Bahrain': 3,\n",
    "    'Austria': 3,\n",
    "    'Netherlands': 3,\n",
    "    'Spain': 2,\n",
    "    'Japan': 2,\n",
    "    'Saudi Arabia': 2,\n",
    "    'Baku': 1,\n",
    "    'Belgium': 1,\n",
    "    'Monza': 1,\n",
    "    'Miami': 1,\n",
    "}\n",
    "\"\"\""
   ]
  }
 ],
 "metadata": {
  "language_info": {
   "name": "python"
  },
  "orig_nbformat": 4
 },
 "nbformat": 4,
 "nbformat_minor": 2
}
